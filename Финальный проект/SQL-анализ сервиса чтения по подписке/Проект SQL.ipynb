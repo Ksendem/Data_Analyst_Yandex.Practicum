{
 "cells": [
  {
   "cell_type": "markdown",
   "metadata": {},
   "source": [
    "# Проект по SQL\n",
    "\n",
    "Наша компания купила сервис для чтения книг по подписке. Наша задача - проанализировать базу данных, где содержится информация о книгах, издательствах, авторах, а также пользовательские обзоры книг. На основе этих данных впоследствии можно будет сформулировать ценностное предложение для нового продукта."
   ]
  },
  {
   "cell_type": "markdown",
   "metadata": {},
   "source": [
    "## Содержание\n",
    "* [Выгрузка данных и предпросмотр таблиц](#выгрузка)\n",
    "* [Выполнение заданий](#задания)\n",
    "    * [Количество книг, вышедших после 1 января 2000 года](#книги_2000)\n",
    "    * [Средняя оценка и количество обзоров у каждой книги](#оценка_обзоры)\n",
    "    * [Издательство, которые выпустило наибольшее количество книг толце 50 страниц](#издательство)\n",
    "    * [Автор с самой высокой средней оценкой книг](#автор)\n",
    "    * [Среднее количество обзоров пользователей, которые поставили больше 50 оценок](#обзоры)"
   ]
  },
  {
   "cell_type": "markdown",
   "metadata": {},
   "source": [
    "### Выгрузка данных и предпросмотр таблиц <a class=\"anchor\" id=\"выгрузка\"></a>"
   ]
  },
  {
   "cell_type": "code",
   "execution_count": 1,
   "metadata": {},
   "outputs": [],
   "source": [
    "# импортируем библиотеки\n",
    "import pandas as pd\n",
    "from sqlalchemy import text, create_engine\n",
    "\n",
    "# устанавливаем параметры\n",
    "db_config = {'user': 'praktikum_student', # имя пользователя\n",
    "'pwd': 'Sdf4$2;d-d30pp', # пароль\n",
    "'host': 'rc1b-wcoijxj3yxfsf3fs.mdb.yandexcloud.net',\n",
    "'port': 6432, # порт подключения\n",
    "'db': 'data-analyst-final-project-db'} # название базы данных\n",
    "connection_string = 'postgresql://{user}:{pwd}@{host}:{port}/{db}'.format(**db_config)\n",
    "\n",
    "# сохраняем коннектор\n",
    "engine = create_engine(connection_string, connect_args={'sslmode':'require'})"
   ]
  },
  {
   "cell_type": "code",
   "execution_count": 2,
   "metadata": {},
   "outputs": [],
   "source": [
    "# создадим функцию для просмотра первых пяти строк и информации о таблице\n",
    "def sql_info(sql):\n",
    "    display(pd.io.sql.read_sql('''SELECT * FROM {} LIMIT 5'''.format(sql), con = engine))\n",
    "    display()\n",
    "    display(pd.io.sql.read_sql('''SELECT * FROM {} '''.format(sql), con = engine).info())"
   ]
  },
  {
   "cell_type": "code",
   "execution_count": 3,
   "metadata": {},
   "outputs": [
    {
     "data": {
      "text/html": [
       "<div>\n",
       "<style scoped>\n",
       "    .dataframe tbody tr th:only-of-type {\n",
       "        vertical-align: middle;\n",
       "    }\n",
       "\n",
       "    .dataframe tbody tr th {\n",
       "        vertical-align: top;\n",
       "    }\n",
       "\n",
       "    .dataframe thead th {\n",
       "        text-align: right;\n",
       "    }\n",
       "</style>\n",
       "<table border=\"1\" class=\"dataframe\">\n",
       "  <thead>\n",
       "    <tr style=\"text-align: right;\">\n",
       "      <th></th>\n",
       "      <th>book_id</th>\n",
       "      <th>author_id</th>\n",
       "      <th>title</th>\n",
       "      <th>num_pages</th>\n",
       "      <th>publication_date</th>\n",
       "      <th>publisher_id</th>\n",
       "    </tr>\n",
       "  </thead>\n",
       "  <tbody>\n",
       "    <tr>\n",
       "      <th>0</th>\n",
       "      <td>1</td>\n",
       "      <td>546</td>\n",
       "      <td>'Salem's Lot</td>\n",
       "      <td>594</td>\n",
       "      <td>2005-11-01</td>\n",
       "      <td>93</td>\n",
       "    </tr>\n",
       "    <tr>\n",
       "      <th>1</th>\n",
       "      <td>2</td>\n",
       "      <td>465</td>\n",
       "      <td>1 000 Places to See Before You Die</td>\n",
       "      <td>992</td>\n",
       "      <td>2003-05-22</td>\n",
       "      <td>336</td>\n",
       "    </tr>\n",
       "    <tr>\n",
       "      <th>2</th>\n",
       "      <td>3</td>\n",
       "      <td>407</td>\n",
       "      <td>13 Little Blue Envelopes (Little Blue Envelope...</td>\n",
       "      <td>322</td>\n",
       "      <td>2010-12-21</td>\n",
       "      <td>135</td>\n",
       "    </tr>\n",
       "    <tr>\n",
       "      <th>3</th>\n",
       "      <td>4</td>\n",
       "      <td>82</td>\n",
       "      <td>1491: New Revelations of the Americas Before C...</td>\n",
       "      <td>541</td>\n",
       "      <td>2006-10-10</td>\n",
       "      <td>309</td>\n",
       "    </tr>\n",
       "    <tr>\n",
       "      <th>4</th>\n",
       "      <td>5</td>\n",
       "      <td>125</td>\n",
       "      <td>1776</td>\n",
       "      <td>386</td>\n",
       "      <td>2006-07-04</td>\n",
       "      <td>268</td>\n",
       "    </tr>\n",
       "  </tbody>\n",
       "</table>\n",
       "</div>"
      ],
      "text/plain": [
       "   book_id  author_id                                              title  \\\n",
       "0        1        546                                       'Salem's Lot   \n",
       "1        2        465                 1 000 Places to See Before You Die   \n",
       "2        3        407  13 Little Blue Envelopes (Little Blue Envelope...   \n",
       "3        4         82  1491: New Revelations of the Americas Before C...   \n",
       "4        5        125                                               1776   \n",
       "\n",
       "   num_pages publication_date  publisher_id  \n",
       "0        594       2005-11-01            93  \n",
       "1        992       2003-05-22           336  \n",
       "2        322       2010-12-21           135  \n",
       "3        541       2006-10-10           309  \n",
       "4        386       2006-07-04           268  "
      ]
     },
     "metadata": {},
     "output_type": "display_data"
    },
    {
     "name": "stdout",
     "output_type": "stream",
     "text": [
      "<class 'pandas.core.frame.DataFrame'>\n",
      "RangeIndex: 1000 entries, 0 to 999\n",
      "Data columns (total 6 columns):\n",
      " #   Column            Non-Null Count  Dtype \n",
      "---  ------            --------------  ----- \n",
      " 0   book_id           1000 non-null   int64 \n",
      " 1   author_id         1000 non-null   int64 \n",
      " 2   title             1000 non-null   object\n",
      " 3   num_pages         1000 non-null   int64 \n",
      " 4   publication_date  1000 non-null   object\n",
      " 5   publisher_id      1000 non-null   int64 \n",
      "dtypes: int64(4), object(2)\n",
      "memory usage: 47.0+ KB\n"
     ]
    },
    {
     "data": {
      "text/plain": [
       "None"
      ]
     },
     "metadata": {},
     "output_type": "display_data"
    }
   ],
   "source": [
    "# сначала таблица books\n",
    "sql_info('books')"
   ]
  },
  {
   "cell_type": "markdown",
   "metadata": {},
   "source": [
    "1000 строк, 6 столбцов. Есть id книги и автора, количество страниц, название, дата публикации и id издателя."
   ]
  },
  {
   "cell_type": "code",
   "execution_count": 4,
   "metadata": {},
   "outputs": [
    {
     "data": {
      "text/html": [
       "<div>\n",
       "<style scoped>\n",
       "    .dataframe tbody tr th:only-of-type {\n",
       "        vertical-align: middle;\n",
       "    }\n",
       "\n",
       "    .dataframe tbody tr th {\n",
       "        vertical-align: top;\n",
       "    }\n",
       "\n",
       "    .dataframe thead th {\n",
       "        text-align: right;\n",
       "    }\n",
       "</style>\n",
       "<table border=\"1\" class=\"dataframe\">\n",
       "  <thead>\n",
       "    <tr style=\"text-align: right;\">\n",
       "      <th></th>\n",
       "      <th>author_id</th>\n",
       "      <th>author</th>\n",
       "    </tr>\n",
       "  </thead>\n",
       "  <tbody>\n",
       "    <tr>\n",
       "      <th>0</th>\n",
       "      <td>1</td>\n",
       "      <td>A.S. Byatt</td>\n",
       "    </tr>\n",
       "    <tr>\n",
       "      <th>1</th>\n",
       "      <td>2</td>\n",
       "      <td>Aesop/Laura Harris/Laura Gibbs</td>\n",
       "    </tr>\n",
       "    <tr>\n",
       "      <th>2</th>\n",
       "      <td>3</td>\n",
       "      <td>Agatha Christie</td>\n",
       "    </tr>\n",
       "    <tr>\n",
       "      <th>3</th>\n",
       "      <td>4</td>\n",
       "      <td>Alan Brennert</td>\n",
       "    </tr>\n",
       "    <tr>\n",
       "      <th>4</th>\n",
       "      <td>5</td>\n",
       "      <td>Alan Moore/David   Lloyd</td>\n",
       "    </tr>\n",
       "  </tbody>\n",
       "</table>\n",
       "</div>"
      ],
      "text/plain": [
       "   author_id                          author\n",
       "0          1                      A.S. Byatt\n",
       "1          2  Aesop/Laura Harris/Laura Gibbs\n",
       "2          3                 Agatha Christie\n",
       "3          4                   Alan Brennert\n",
       "4          5        Alan Moore/David   Lloyd"
      ]
     },
     "metadata": {},
     "output_type": "display_data"
    },
    {
     "name": "stdout",
     "output_type": "stream",
     "text": [
      "<class 'pandas.core.frame.DataFrame'>\n",
      "RangeIndex: 636 entries, 0 to 635\n",
      "Data columns (total 2 columns):\n",
      " #   Column     Non-Null Count  Dtype \n",
      "---  ------     --------------  ----- \n",
      " 0   author_id  636 non-null    int64 \n",
      " 1   author     636 non-null    object\n",
      "dtypes: int64(1), object(1)\n",
      "memory usage: 10.1+ KB\n"
     ]
    },
    {
     "data": {
      "text/plain": [
       "None"
      ]
     },
     "metadata": {},
     "output_type": "display_data"
    }
   ],
   "source": [
    "# теперь информация об авторах \n",
    "sql_info('authors')"
   ]
  },
  {
   "cell_type": "markdown",
   "metadata": {},
   "source": [
    "636 строк, 2 столбца с id автора и его/ее именем. Может встречаться несколько авторов под одним id. "
   ]
  },
  {
   "cell_type": "code",
   "execution_count": 5,
   "metadata": {},
   "outputs": [
    {
     "data": {
      "text/html": [
       "<div>\n",
       "<style scoped>\n",
       "    .dataframe tbody tr th:only-of-type {\n",
       "        vertical-align: middle;\n",
       "    }\n",
       "\n",
       "    .dataframe tbody tr th {\n",
       "        vertical-align: top;\n",
       "    }\n",
       "\n",
       "    .dataframe thead th {\n",
       "        text-align: right;\n",
       "    }\n",
       "</style>\n",
       "<table border=\"1\" class=\"dataframe\">\n",
       "  <thead>\n",
       "    <tr style=\"text-align: right;\">\n",
       "      <th></th>\n",
       "      <th>publisher_id</th>\n",
       "      <th>publisher</th>\n",
       "    </tr>\n",
       "  </thead>\n",
       "  <tbody>\n",
       "    <tr>\n",
       "      <th>0</th>\n",
       "      <td>1</td>\n",
       "      <td>Ace</td>\n",
       "    </tr>\n",
       "    <tr>\n",
       "      <th>1</th>\n",
       "      <td>2</td>\n",
       "      <td>Ace Book</td>\n",
       "    </tr>\n",
       "    <tr>\n",
       "      <th>2</th>\n",
       "      <td>3</td>\n",
       "      <td>Ace Books</td>\n",
       "    </tr>\n",
       "    <tr>\n",
       "      <th>3</th>\n",
       "      <td>4</td>\n",
       "      <td>Ace Hardcover</td>\n",
       "    </tr>\n",
       "    <tr>\n",
       "      <th>4</th>\n",
       "      <td>5</td>\n",
       "      <td>Addison Wesley Publishing Company</td>\n",
       "    </tr>\n",
       "  </tbody>\n",
       "</table>\n",
       "</div>"
      ],
      "text/plain": [
       "   publisher_id                          publisher\n",
       "0             1                                Ace\n",
       "1             2                           Ace Book\n",
       "2             3                          Ace Books\n",
       "3             4                      Ace Hardcover\n",
       "4             5  Addison Wesley Publishing Company"
      ]
     },
     "metadata": {},
     "output_type": "display_data"
    },
    {
     "name": "stdout",
     "output_type": "stream",
     "text": [
      "<class 'pandas.core.frame.DataFrame'>\n",
      "RangeIndex: 340 entries, 0 to 339\n",
      "Data columns (total 2 columns):\n",
      " #   Column        Non-Null Count  Dtype \n",
      "---  ------        --------------  ----- \n",
      " 0   publisher_id  340 non-null    int64 \n",
      " 1   publisher     340 non-null    object\n",
      "dtypes: int64(1), object(1)\n",
      "memory usage: 5.4+ KB\n"
     ]
    },
    {
     "data": {
      "text/plain": [
       "None"
      ]
     },
     "metadata": {},
     "output_type": "display_data"
    }
   ],
   "source": [
    "# издательства \n",
    "sql_info('publishers')"
   ]
  },
  {
   "cell_type": "markdown",
   "metadata": {},
   "source": [
    "Здесь 340 строк, 2 столбца с названием издательства и его id. "
   ]
  },
  {
   "cell_type": "code",
   "execution_count": 6,
   "metadata": {},
   "outputs": [
    {
     "data": {
      "text/html": [
       "<div>\n",
       "<style scoped>\n",
       "    .dataframe tbody tr th:only-of-type {\n",
       "        vertical-align: middle;\n",
       "    }\n",
       "\n",
       "    .dataframe tbody tr th {\n",
       "        vertical-align: top;\n",
       "    }\n",
       "\n",
       "    .dataframe thead th {\n",
       "        text-align: right;\n",
       "    }\n",
       "</style>\n",
       "<table border=\"1\" class=\"dataframe\">\n",
       "  <thead>\n",
       "    <tr style=\"text-align: right;\">\n",
       "      <th></th>\n",
       "      <th>review_id</th>\n",
       "      <th>book_id</th>\n",
       "      <th>username</th>\n",
       "      <th>text</th>\n",
       "    </tr>\n",
       "  </thead>\n",
       "  <tbody>\n",
       "    <tr>\n",
       "      <th>0</th>\n",
       "      <td>1</td>\n",
       "      <td>1</td>\n",
       "      <td>brandtandrea</td>\n",
       "      <td>Mention society tell send professor analysis. ...</td>\n",
       "    </tr>\n",
       "    <tr>\n",
       "      <th>1</th>\n",
       "      <td>2</td>\n",
       "      <td>1</td>\n",
       "      <td>ryanfranco</td>\n",
       "      <td>Foot glass pretty audience hit themselves. Amo...</td>\n",
       "    </tr>\n",
       "    <tr>\n",
       "      <th>2</th>\n",
       "      <td>3</td>\n",
       "      <td>2</td>\n",
       "      <td>lorichen</td>\n",
       "      <td>Listen treat keep worry. Miss husband tax but ...</td>\n",
       "    </tr>\n",
       "    <tr>\n",
       "      <th>3</th>\n",
       "      <td>4</td>\n",
       "      <td>3</td>\n",
       "      <td>johnsonamanda</td>\n",
       "      <td>Finally month interesting blue could nature cu...</td>\n",
       "    </tr>\n",
       "    <tr>\n",
       "      <th>4</th>\n",
       "      <td>5</td>\n",
       "      <td>3</td>\n",
       "      <td>scotttamara</td>\n",
       "      <td>Nation purpose heavy give wait song will. List...</td>\n",
       "    </tr>\n",
       "  </tbody>\n",
       "</table>\n",
       "</div>"
      ],
      "text/plain": [
       "   review_id  book_id       username  \\\n",
       "0          1        1   brandtandrea   \n",
       "1          2        1     ryanfranco   \n",
       "2          3        2       lorichen   \n",
       "3          4        3  johnsonamanda   \n",
       "4          5        3    scotttamara   \n",
       "\n",
       "                                                text  \n",
       "0  Mention society tell send professor analysis. ...  \n",
       "1  Foot glass pretty audience hit themselves. Amo...  \n",
       "2  Listen treat keep worry. Miss husband tax but ...  \n",
       "3  Finally month interesting blue could nature cu...  \n",
       "4  Nation purpose heavy give wait song will. List...  "
      ]
     },
     "metadata": {},
     "output_type": "display_data"
    },
    {
     "name": "stdout",
     "output_type": "stream",
     "text": [
      "<class 'pandas.core.frame.DataFrame'>\n",
      "RangeIndex: 2793 entries, 0 to 2792\n",
      "Data columns (total 4 columns):\n",
      " #   Column     Non-Null Count  Dtype \n",
      "---  ------     --------------  ----- \n",
      " 0   review_id  2793 non-null   int64 \n",
      " 1   book_id    2793 non-null   int64 \n",
      " 2   username   2793 non-null   object\n",
      " 3   text       2793 non-null   object\n",
      "dtypes: int64(2), object(2)\n",
      "memory usage: 87.4+ KB\n"
     ]
    },
    {
     "data": {
      "text/plain": [
       "None"
      ]
     },
     "metadata": {},
     "output_type": "display_data"
    }
   ],
   "source": [
    "# пользовательские обзоры книг\n",
    "sql_info('reviews')"
   ]
  },
  {
   "cell_type": "markdown",
   "metadata": {},
   "source": [
    "2793 строки и 4 столбца с информацией о id обзора и книги, имени пользователя и сам текст."
   ]
  },
  {
   "cell_type": "code",
   "execution_count": 7,
   "metadata": {},
   "outputs": [
    {
     "data": {
      "text/html": [
       "<div>\n",
       "<style scoped>\n",
       "    .dataframe tbody tr th:only-of-type {\n",
       "        vertical-align: middle;\n",
       "    }\n",
       "\n",
       "    .dataframe tbody tr th {\n",
       "        vertical-align: top;\n",
       "    }\n",
       "\n",
       "    .dataframe thead th {\n",
       "        text-align: right;\n",
       "    }\n",
       "</style>\n",
       "<table border=\"1\" class=\"dataframe\">\n",
       "  <thead>\n",
       "    <tr style=\"text-align: right;\">\n",
       "      <th></th>\n",
       "      <th>rating_id</th>\n",
       "      <th>book_id</th>\n",
       "      <th>username</th>\n",
       "      <th>rating</th>\n",
       "    </tr>\n",
       "  </thead>\n",
       "  <tbody>\n",
       "    <tr>\n",
       "      <th>0</th>\n",
       "      <td>1</td>\n",
       "      <td>1</td>\n",
       "      <td>ryanfranco</td>\n",
       "      <td>4</td>\n",
       "    </tr>\n",
       "    <tr>\n",
       "      <th>1</th>\n",
       "      <td>2</td>\n",
       "      <td>1</td>\n",
       "      <td>grantpatricia</td>\n",
       "      <td>2</td>\n",
       "    </tr>\n",
       "    <tr>\n",
       "      <th>2</th>\n",
       "      <td>3</td>\n",
       "      <td>1</td>\n",
       "      <td>brandtandrea</td>\n",
       "      <td>5</td>\n",
       "    </tr>\n",
       "    <tr>\n",
       "      <th>3</th>\n",
       "      <td>4</td>\n",
       "      <td>2</td>\n",
       "      <td>lorichen</td>\n",
       "      <td>3</td>\n",
       "    </tr>\n",
       "    <tr>\n",
       "      <th>4</th>\n",
       "      <td>5</td>\n",
       "      <td>2</td>\n",
       "      <td>mariokeller</td>\n",
       "      <td>2</td>\n",
       "    </tr>\n",
       "  </tbody>\n",
       "</table>\n",
       "</div>"
      ],
      "text/plain": [
       "   rating_id  book_id       username  rating\n",
       "0          1        1     ryanfranco       4\n",
       "1          2        1  grantpatricia       2\n",
       "2          3        1   brandtandrea       5\n",
       "3          4        2       lorichen       3\n",
       "4          5        2    mariokeller       2"
      ]
     },
     "metadata": {},
     "output_type": "display_data"
    },
    {
     "name": "stdout",
     "output_type": "stream",
     "text": [
      "<class 'pandas.core.frame.DataFrame'>\n",
      "RangeIndex: 6456 entries, 0 to 6455\n",
      "Data columns (total 4 columns):\n",
      " #   Column     Non-Null Count  Dtype \n",
      "---  ------     --------------  ----- \n",
      " 0   rating_id  6456 non-null   int64 \n",
      " 1   book_id    6456 non-null   int64 \n",
      " 2   username   6456 non-null   object\n",
      " 3   rating     6456 non-null   int64 \n",
      "dtypes: int64(3), object(1)\n",
      "memory usage: 201.9+ KB\n"
     ]
    },
    {
     "data": {
      "text/plain": [
       "None"
      ]
     },
     "metadata": {},
     "output_type": "display_data"
    }
   ],
   "source": [
    "# пользовательские оценки\n",
    "sql_info('ratings')"
   ]
  },
  {
   "cell_type": "markdown",
   "metadata": {},
   "source": [
    "4 столбца и 6456 строк. Есть данные с id рейтинга и книги, именем пользователя и сам рейтинг. "
   ]
  },
  {
   "cell_type": "markdown",
   "metadata": {},
   "source": [
    "Итого у нас 5 связанных между собой таблиц, в которых содержится информация о книгах, авторах, издательствах, пользовательских оценках и отзывах. Так как предобработка не требовалась, мы не проверяли ни на дубликаты, ни на пропуски. Но, судя по всему, пропусков нет. "
   ]
  },
  {
   "cell_type": "markdown",
   "metadata": {},
   "source": [
    "### Выполнение заданий <a class=\"anchor\" id=\"задания\"></a>"
   ]
  },
  {
   "cell_type": "markdown",
   "metadata": {},
   "source": [
    "#### Количество книг, вышедших после 1 января 2000 года <a class=\"anchor\" id=\"книги_2000\"></a>"
   ]
  },
  {
   "cell_type": "code",
   "execution_count": 8,
   "metadata": {},
   "outputs": [],
   "source": [
    "book_count = '''\n",
    "    SELECT COUNT(book_id) AS book_count\n",
    "    FROM books\n",
    "    WHERE publication_date::date > '2000-01-01'\n",
    "    '''"
   ]
  },
  {
   "cell_type": "code",
   "execution_count": 9,
   "metadata": {},
   "outputs": [
    {
     "data": {
      "text/html": [
       "<div>\n",
       "<style scoped>\n",
       "    .dataframe tbody tr th:only-of-type {\n",
       "        vertical-align: middle;\n",
       "    }\n",
       "\n",
       "    .dataframe tbody tr th {\n",
       "        vertical-align: top;\n",
       "    }\n",
       "\n",
       "    .dataframe thead th {\n",
       "        text-align: right;\n",
       "    }\n",
       "</style>\n",
       "<table border=\"1\" class=\"dataframe\">\n",
       "  <thead>\n",
       "    <tr style=\"text-align: right;\">\n",
       "      <th></th>\n",
       "      <th>book_count</th>\n",
       "    </tr>\n",
       "  </thead>\n",
       "  <tbody>\n",
       "    <tr>\n",
       "      <th>0</th>\n",
       "      <td>819</td>\n",
       "    </tr>\n",
       "  </tbody>\n",
       "</table>\n",
       "</div>"
      ],
      "text/plain": [
       "   book_count\n",
       "0         819"
      ]
     },
     "execution_count": 9,
     "metadata": {},
     "output_type": "execute_result"
    }
   ],
   "source": [
    "pd.io.sql.read_sql(book_count, con = engine)"
   ]
  },
  {
   "cell_type": "markdown",
   "metadata": {},
   "source": [
    "819 книг было опубликовано после 1 января 2020. Всего в таблице 1000 книг, так что под запрос попало большинство. "
   ]
  },
  {
   "cell_type": "markdown",
   "metadata": {},
   "source": [
    "#### Средняя оценка и количество обзоров у каждой книги <a class=\"anchor\" id=\"оценка_обзоры\"></a>"
   ]
  },
  {
   "cell_type": "code",
   "execution_count": 10,
   "metadata": {},
   "outputs": [],
   "source": [
    "rating_and_review_count = '''\n",
    "    SELECT b.book_id as id,\n",
    "           b.title as title,\n",
    "           ROUND(AVG(rat.rating),2) as avg_rating,\n",
    "           COUNT(DISTINCT rev.review_id) as review_count\n",
    "    FROM books as b\n",
    "    LEFT JOIN ratings as rat ON b.book_id = rat.book_id\n",
    "    LEFT JOIN reviews as rev ON b.book_id = rev.book_id\n",
    "    GROUP BY id\n",
    "    ORDER BY avg_rating DESC\n",
    "    '''"
   ]
  },
  {
   "cell_type": "code",
   "execution_count": 11,
   "metadata": {},
   "outputs": [
    {
     "data": {
      "text/html": [
       "<div>\n",
       "<style scoped>\n",
       "    .dataframe tbody tr th:only-of-type {\n",
       "        vertical-align: middle;\n",
       "    }\n",
       "\n",
       "    .dataframe tbody tr th {\n",
       "        vertical-align: top;\n",
       "    }\n",
       "\n",
       "    .dataframe thead th {\n",
       "        text-align: right;\n",
       "    }\n",
       "</style>\n",
       "<table border=\"1\" class=\"dataframe\">\n",
       "  <thead>\n",
       "    <tr style=\"text-align: right;\">\n",
       "      <th></th>\n",
       "      <th>id</th>\n",
       "      <th>title</th>\n",
       "      <th>avg_rating</th>\n",
       "      <th>review_count</th>\n",
       "    </tr>\n",
       "  </thead>\n",
       "  <tbody>\n",
       "    <tr>\n",
       "      <th>0</th>\n",
       "      <td>86</td>\n",
       "      <td>Arrows of the Queen (Heralds of Valdemar  #1)</td>\n",
       "      <td>5.00</td>\n",
       "      <td>2</td>\n",
       "    </tr>\n",
       "    <tr>\n",
       "      <th>1</th>\n",
       "      <td>901</td>\n",
       "      <td>The Walking Dead  Book One (The Walking Dead #...</td>\n",
       "      <td>5.00</td>\n",
       "      <td>2</td>\n",
       "    </tr>\n",
       "    <tr>\n",
       "      <th>2</th>\n",
       "      <td>390</td>\n",
       "      <td>Light in August</td>\n",
       "      <td>5.00</td>\n",
       "      <td>2</td>\n",
       "    </tr>\n",
       "    <tr>\n",
       "      <th>3</th>\n",
       "      <td>972</td>\n",
       "      <td>Wherever You Go  There You Are: Mindfulness Me...</td>\n",
       "      <td>5.00</td>\n",
       "      <td>2</td>\n",
       "    </tr>\n",
       "    <tr>\n",
       "      <th>4</th>\n",
       "      <td>136</td>\n",
       "      <td>Captivating: Unveiling the Mystery of a Woman'...</td>\n",
       "      <td>5.00</td>\n",
       "      <td>2</td>\n",
       "    </tr>\n",
       "    <tr>\n",
       "      <th>...</th>\n",
       "      <td>...</td>\n",
       "      <td>...</td>\n",
       "      <td>...</td>\n",
       "      <td>...</td>\n",
       "    </tr>\n",
       "    <tr>\n",
       "      <th>995</th>\n",
       "      <td>915</td>\n",
       "      <td>The World Is Flat: A Brief History of the Twen...</td>\n",
       "      <td>2.25</td>\n",
       "      <td>3</td>\n",
       "    </tr>\n",
       "    <tr>\n",
       "      <th>996</th>\n",
       "      <td>316</td>\n",
       "      <td>His Excellency: George Washington</td>\n",
       "      <td>2.00</td>\n",
       "      <td>2</td>\n",
       "    </tr>\n",
       "    <tr>\n",
       "      <th>997</th>\n",
       "      <td>202</td>\n",
       "      <td>Drowning Ruth</td>\n",
       "      <td>2.00</td>\n",
       "      <td>3</td>\n",
       "    </tr>\n",
       "    <tr>\n",
       "      <th>998</th>\n",
       "      <td>371</td>\n",
       "      <td>Junky</td>\n",
       "      <td>2.00</td>\n",
       "      <td>2</td>\n",
       "    </tr>\n",
       "    <tr>\n",
       "      <th>999</th>\n",
       "      <td>303</td>\n",
       "      <td>Harvesting the Heart</td>\n",
       "      <td>1.50</td>\n",
       "      <td>2</td>\n",
       "    </tr>\n",
       "  </tbody>\n",
       "</table>\n",
       "<p>1000 rows × 4 columns</p>\n",
       "</div>"
      ],
      "text/plain": [
       "      id                                              title  avg_rating  \\\n",
       "0     86      Arrows of the Queen (Heralds of Valdemar  #1)        5.00   \n",
       "1    901  The Walking Dead  Book One (The Walking Dead #...        5.00   \n",
       "2    390                                    Light in August        5.00   \n",
       "3    972  Wherever You Go  There You Are: Mindfulness Me...        5.00   \n",
       "4    136  Captivating: Unveiling the Mystery of a Woman'...        5.00   \n",
       "..   ...                                                ...         ...   \n",
       "995  915  The World Is Flat: A Brief History of the Twen...        2.25   \n",
       "996  316                  His Excellency: George Washington        2.00   \n",
       "997  202                                      Drowning Ruth        2.00   \n",
       "998  371                                              Junky        2.00   \n",
       "999  303                               Harvesting the Heart        1.50   \n",
       "\n",
       "     review_count  \n",
       "0               2  \n",
       "1               2  \n",
       "2               2  \n",
       "3               2  \n",
       "4               2  \n",
       "..            ...  \n",
       "995             3  \n",
       "996             2  \n",
       "997             3  \n",
       "998             2  \n",
       "999             2  \n",
       "\n",
       "[1000 rows x 4 columns]"
      ]
     },
     "execution_count": 11,
     "metadata": {},
     "output_type": "execute_result"
    }
   ],
   "source": [
    "pd.io.sql.read_sql(rating_and_review_count, con = engine)"
   ]
  },
  {
   "cell_type": "markdown",
   "metadata": {},
   "source": [
    "У нескольких книг средний рейтинг 5, самый низкий рейтинг у Harvesting the Heart - 1.5. "
   ]
  },
  {
   "cell_type": "markdown",
   "metadata": {},
   "source": [
    "#### Издательство, которое выпустило наибольшее количество книг толще 50 страниц <a class=\"anchor\" id=\"издательство\"></a>"
   ]
  },
  {
   "cell_type": "code",
   "execution_count": 12,
   "metadata": {},
   "outputs": [],
   "source": [
    "publisher = '''\n",
    "    SELECT p.publisher as publisher,\n",
    "        COUNT(DISTINCT b.book_id) as book_count\n",
    "    FROM books AS b\n",
    "    JOIN publishers as p ON b.publisher_id = p.publisher_id\n",
    "    WHERE b.num_pages > 50\n",
    "    GROUP BY p.publisher\n",
    "    ORDER BY COUNT(DISTINCT b.book_id) DESC\n",
    "    LIMIT 5\n",
    "    '''"
   ]
  },
  {
   "cell_type": "code",
   "execution_count": 13,
   "metadata": {},
   "outputs": [
    {
     "data": {
      "text/html": [
       "<div>\n",
       "<style scoped>\n",
       "    .dataframe tbody tr th:only-of-type {\n",
       "        vertical-align: middle;\n",
       "    }\n",
       "\n",
       "    .dataframe tbody tr th {\n",
       "        vertical-align: top;\n",
       "    }\n",
       "\n",
       "    .dataframe thead th {\n",
       "        text-align: right;\n",
       "    }\n",
       "</style>\n",
       "<table border=\"1\" class=\"dataframe\">\n",
       "  <thead>\n",
       "    <tr style=\"text-align: right;\">\n",
       "      <th></th>\n",
       "      <th>publisher</th>\n",
       "      <th>book_count</th>\n",
       "    </tr>\n",
       "  </thead>\n",
       "  <tbody>\n",
       "    <tr>\n",
       "      <th>0</th>\n",
       "      <td>Penguin Books</td>\n",
       "      <td>42</td>\n",
       "    </tr>\n",
       "    <tr>\n",
       "      <th>1</th>\n",
       "      <td>Vintage</td>\n",
       "      <td>31</td>\n",
       "    </tr>\n",
       "    <tr>\n",
       "      <th>2</th>\n",
       "      <td>Grand Central Publishing</td>\n",
       "      <td>25</td>\n",
       "    </tr>\n",
       "    <tr>\n",
       "      <th>3</th>\n",
       "      <td>Penguin Classics</td>\n",
       "      <td>24</td>\n",
       "    </tr>\n",
       "    <tr>\n",
       "      <th>4</th>\n",
       "      <td>Ballantine Books</td>\n",
       "      <td>19</td>\n",
       "    </tr>\n",
       "  </tbody>\n",
       "</table>\n",
       "</div>"
      ],
      "text/plain": [
       "                  publisher  book_count\n",
       "0             Penguin Books          42\n",
       "1                   Vintage          31\n",
       "2  Grand Central Publishing          25\n",
       "3          Penguin Classics          24\n",
       "4          Ballantine Books          19"
      ]
     },
     "execution_count": 13,
     "metadata": {},
     "output_type": "execute_result"
    }
   ],
   "source": [
    "pd.io.sql.read_sql(publisher, con = engine)"
   ]
  },
  {
   "cell_type": "markdown",
   "metadata": {},
   "source": [
    "Лидирует одно из самых популярных издательств - Penguin Books с 42 книгами. "
   ]
  },
  {
   "cell_type": "markdown",
   "metadata": {},
   "source": [
    "#### Автор с самой высокой средней оценкой книг <a class=\"anchor\" id=\"автор\"></a>\n",
    "\n",
    "У книг автора должно быть более 50 оценок"
   ]
  },
  {
   "cell_type": "code",
   "execution_count": 14,
   "metadata": {},
   "outputs": [],
   "source": [
    "best_author = '''\n",
    "    SELECT t.author as author,\n",
    "        ROUND(AVG(t.rating), 2) as rating\n",
    "    FROM \n",
    "        (SELECT a.author as author,\n",
    "                b.book_id as book,\n",
    "                AVG(r.rating) as rating,\n",
    "                COUNT(r.rating) as rating_count\n",
    "        FROM books as b\n",
    "        JOIN authors as a on b.author_id = a.author_id\n",
    "        JOIN ratings as r on b.book_id = r.book_id\n",
    "        GROUP BY author, book\n",
    "        HAVING COUNT(r.rating) > 50) AS t\n",
    "    GROUP BY author\n",
    "    ORDER BY rating DESC\n",
    "    LIMIT 5\n",
    "    '''"
   ]
  },
  {
   "cell_type": "code",
   "execution_count": 15,
   "metadata": {},
   "outputs": [
    {
     "data": {
      "text/html": [
       "<div>\n",
       "<style scoped>\n",
       "    .dataframe tbody tr th:only-of-type {\n",
       "        vertical-align: middle;\n",
       "    }\n",
       "\n",
       "    .dataframe tbody tr th {\n",
       "        vertical-align: top;\n",
       "    }\n",
       "\n",
       "    .dataframe thead th {\n",
       "        text-align: right;\n",
       "    }\n",
       "</style>\n",
       "<table border=\"1\" class=\"dataframe\">\n",
       "  <thead>\n",
       "    <tr style=\"text-align: right;\">\n",
       "      <th></th>\n",
       "      <th>author</th>\n",
       "      <th>rating</th>\n",
       "    </tr>\n",
       "  </thead>\n",
       "  <tbody>\n",
       "    <tr>\n",
       "      <th>0</th>\n",
       "      <td>J.K. Rowling/Mary GrandPré</td>\n",
       "      <td>4.28</td>\n",
       "    </tr>\n",
       "    <tr>\n",
       "      <th>1</th>\n",
       "      <td>Markus Zusak/Cao Xuân Việt Khương</td>\n",
       "      <td>4.26</td>\n",
       "    </tr>\n",
       "    <tr>\n",
       "      <th>2</th>\n",
       "      <td>J.R.R. Tolkien</td>\n",
       "      <td>4.26</td>\n",
       "    </tr>\n",
       "    <tr>\n",
       "      <th>3</th>\n",
       "      <td>Louisa May Alcott</td>\n",
       "      <td>4.19</td>\n",
       "    </tr>\n",
       "    <tr>\n",
       "      <th>4</th>\n",
       "      <td>Rick Riordan</td>\n",
       "      <td>4.08</td>\n",
       "    </tr>\n",
       "  </tbody>\n",
       "</table>\n",
       "</div>"
      ],
      "text/plain": [
       "                              author  rating\n",
       "0         J.K. Rowling/Mary GrandPré    4.28\n",
       "1  Markus Zusak/Cao Xuân Việt Khương    4.26\n",
       "2                     J.R.R. Tolkien    4.26\n",
       "3                  Louisa May Alcott    4.19\n",
       "4                       Rick Riordan    4.08"
      ]
     },
     "execution_count": 15,
     "metadata": {},
     "output_type": "execute_result"
    }
   ],
   "source": [
    "pd.io.sql.read_sql(best_author, con = engine)"
   ]
  },
  {
   "cell_type": "markdown",
   "metadata": {},
   "source": [
    "Автор с самым высоким рейтингом - Дж.К. Роулинг. Мэри Гранпрэ - иллюстратор книг о Гарри Поттере."
   ]
  },
  {
   "cell_type": "markdown",
   "metadata": {},
   "source": [
    "#### Cреднее количество обзоров от пользователей, которые поставили больше 50 оценок <a class=\"anchor\" id=\"обзоры\"></a>"
   ]
  },
  {
   "cell_type": "code",
   "execution_count": 16,
   "metadata": {},
   "outputs": [],
   "source": [
    "active_users = '''\n",
    "    SELECT ROUND(AVG(review_cnt)) as avg_review\n",
    "    FROM \n",
    "        (SELECT COUNT(review_id) as review_cnt\n",
    "        FROM reviews \n",
    "        WHERE username IN\n",
    "            (SELECT username\n",
    "            FROM ratings\n",
    "            GROUP BY username\n",
    "            HAVING COUNT(rating_id) > 50)\n",
    "        GROUP BY username) as u\n",
    "    '''"
   ]
  },
  {
   "cell_type": "code",
   "execution_count": 17,
   "metadata": {},
   "outputs": [
    {
     "data": {
      "text/html": [
       "<div>\n",
       "<style scoped>\n",
       "    .dataframe tbody tr th:only-of-type {\n",
       "        vertical-align: middle;\n",
       "    }\n",
       "\n",
       "    .dataframe tbody tr th {\n",
       "        vertical-align: top;\n",
       "    }\n",
       "\n",
       "    .dataframe thead th {\n",
       "        text-align: right;\n",
       "    }\n",
       "</style>\n",
       "<table border=\"1\" class=\"dataframe\">\n",
       "  <thead>\n",
       "    <tr style=\"text-align: right;\">\n",
       "      <th></th>\n",
       "      <th>avg_review</th>\n",
       "    </tr>\n",
       "  </thead>\n",
       "  <tbody>\n",
       "    <tr>\n",
       "      <th>0</th>\n",
       "      <td>24.0</td>\n",
       "    </tr>\n",
       "  </tbody>\n",
       "</table>\n",
       "</div>"
      ],
      "text/plain": [
       "   avg_review\n",
       "0        24.0"
      ]
     },
     "execution_count": 17,
     "metadata": {},
     "output_type": "execute_result"
    }
   ],
   "source": [
    "pd.io.sql.read_sql(active_users, con = engine)"
   ]
  },
  {
   "cell_type": "markdown",
   "metadata": {},
   "source": [
    "В среднем активные пользователи (которые поставили больше 50 оценок) пишут 24 отзыва. "
   ]
  },
  {
   "cell_type": "markdown",
   "metadata": {},
   "source": [
    "**Выводы**\n",
    "\n",
    "1. 819 книг вышли после 1 января 2020 года. Это большая часть книг из той БД, что у нас есть.\n",
    "2. Самая высокая средняя оценка по пятибалльной шкале у книг - 5, самая низкая - 1.5. При этом отзывов на каждую такую книгу немного - всего 2. \n",
    "3. Больше всего выпущенных книг у популярного британского издательства Penguin Books - 42 книги объемом более 50 страниц. Кроме того, в топ-5 издательств входит серия Penguin Books - Penguin Classics с 24 выпущенными книгами.\n",
    "4. Автор с самым высоким рейтингом книг - Дж.К. Роулинг (и иллюстратор книг о Гарри Поттере Мэри Гранпрэ). Средний рейтинг ее книг достигает 4.28. \n",
    "5. Те пользователи, которые оставили более 50 оценок, в среднем пишут 24 отзыва, что достаточно много."
   ]
  }
 ],
 "metadata": {
  "ExecuteTimeLog": [
   {
    "duration": 13080,
    "start_time": "2023-05-09T10:14:30.256Z"
   },
   {
    "duration": 5,
    "start_time": "2023-05-09T10:19:53.444Z"
   },
   {
    "duration": 74,
    "start_time": "2023-05-09T10:20:20.274Z"
   },
   {
    "duration": 10,
    "start_time": "2023-05-09T10:20:24.879Z"
   },
   {
    "duration": 12,
    "start_time": "2023-05-09T10:20:41.384Z"
   },
   {
    "duration": 3,
    "start_time": "2023-05-09T10:20:43.007Z"
   },
   {
    "duration": 371,
    "start_time": "2023-05-09T10:20:44.528Z"
   },
   {
    "duration": 157,
    "start_time": "2023-05-09T10:22:36.696Z"
   },
   {
    "duration": 147,
    "start_time": "2023-05-09T10:24:29.745Z"
   },
   {
    "duration": 203,
    "start_time": "2023-05-09T10:25:32.869Z"
   },
   {
    "duration": 199,
    "start_time": "2023-05-09T10:28:20.846Z"
   },
   {
    "duration": 3,
    "start_time": "2023-05-09T10:38:05.630Z"
   },
   {
    "duration": 71,
    "start_time": "2023-05-09T10:38:10.500Z"
   },
   {
    "duration": 3,
    "start_time": "2023-05-09T10:38:25.831Z"
   },
   {
    "duration": 70,
    "start_time": "2023-05-09T10:38:26.316Z"
   },
   {
    "duration": 3,
    "start_time": "2023-05-09T10:53:45.988Z"
   },
   {
    "duration": 157,
    "start_time": "2023-05-09T10:53:51.154Z"
   },
   {
    "duration": 3,
    "start_time": "2023-05-09T10:54:42.311Z"
   },
   {
    "duration": 82,
    "start_time": "2023-05-09T10:54:42.915Z"
   },
   {
    "duration": 3,
    "start_time": "2023-05-09T10:54:55.436Z"
   },
   {
    "duration": 83,
    "start_time": "2023-05-09T10:54:56.091Z"
   },
   {
    "duration": 4,
    "start_time": "2023-05-09T10:55:36.092Z"
   },
   {
    "duration": 97,
    "start_time": "2023-05-09T10:55:36.542Z"
   },
   {
    "duration": 3,
    "start_time": "2023-05-09T10:56:51.900Z"
   },
   {
    "duration": 111,
    "start_time": "2023-05-09T10:56:52.606Z"
   },
   {
    "duration": 2,
    "start_time": "2023-05-09T10:57:04.649Z"
   },
   {
    "duration": 114,
    "start_time": "2023-05-09T10:57:05.160Z"
   },
   {
    "duration": 4,
    "start_time": "2023-05-09T10:59:47.742Z"
   },
   {
    "duration": 128,
    "start_time": "2023-05-09T10:59:48.299Z"
   },
   {
    "duration": 3,
    "start_time": "2023-05-09T10:59:55.376Z"
   },
   {
    "duration": 129,
    "start_time": "2023-05-09T10:59:56.056Z"
   },
   {
    "duration": 3,
    "start_time": "2023-05-09T11:00:42.343Z"
   },
   {
    "duration": 115,
    "start_time": "2023-05-09T11:00:42.758Z"
   },
   {
    "duration": 3,
    "start_time": "2023-05-09T11:01:04.043Z"
   },
   {
    "duration": 114,
    "start_time": "2023-05-09T11:01:04.611Z"
   },
   {
    "duration": 3,
    "start_time": "2023-05-09T11:17:12.778Z"
   },
   {
    "duration": 205,
    "start_time": "2023-05-09T11:17:17.828Z"
   },
   {
    "duration": 4,
    "start_time": "2023-05-09T11:17:37.707Z"
   },
   {
    "duration": 144,
    "start_time": "2023-05-09T11:17:38.409Z"
   },
   {
    "duration": 3,
    "start_time": "2023-05-09T11:18:10.126Z"
   },
   {
    "duration": 230,
    "start_time": "2023-05-09T11:18:11.360Z"
   },
   {
    "duration": 3,
    "start_time": "2023-05-09T11:20:31.910Z"
   },
   {
    "duration": 77,
    "start_time": "2023-05-09T11:20:32.474Z"
   },
   {
    "duration": 3,
    "start_time": "2023-05-09T11:35:51.405Z"
   },
   {
    "duration": 71,
    "start_time": "2023-05-09T11:35:51.902Z"
   },
   {
    "duration": 3,
    "start_time": "2023-05-09T11:36:14.088Z"
   },
   {
    "duration": 118,
    "start_time": "2023-05-09T11:36:14.721Z"
   },
   {
    "duration": 4,
    "start_time": "2023-05-09T11:36:44.136Z"
   },
   {
    "duration": 73,
    "start_time": "2023-05-09T11:36:44.632Z"
   },
   {
    "duration": 7,
    "start_time": "2023-05-09T11:42:41.037Z"
   },
   {
    "duration": 3,
    "start_time": "2023-05-09T11:42:44.400Z"
   },
   {
    "duration": 158,
    "start_time": "2023-05-09T11:42:44.925Z"
   },
   {
    "duration": 3,
    "start_time": "2023-05-09T11:42:58.236Z"
   },
   {
    "duration": 76,
    "start_time": "2023-05-09T11:42:58.799Z"
   },
   {
    "duration": 4,
    "start_time": "2023-05-09T11:43:07.412Z"
   },
   {
    "duration": 78,
    "start_time": "2023-05-09T11:43:08.076Z"
   },
   {
    "duration": 3,
    "start_time": "2023-05-09T11:46:05.375Z"
   },
   {
    "duration": 80,
    "start_time": "2023-05-09T11:46:05.934Z"
   },
   {
    "duration": 3,
    "start_time": "2023-05-09T11:54:22.256Z"
   },
   {
    "duration": 171,
    "start_time": "2023-05-09T11:54:33.191Z"
   },
   {
    "duration": 3,
    "start_time": "2023-05-09T11:54:41.713Z"
   },
   {
    "duration": 187,
    "start_time": "2023-05-09T11:54:42.168Z"
   },
   {
    "duration": 3,
    "start_time": "2023-05-09T11:55:25.362Z"
   },
   {
    "duration": 172,
    "start_time": "2023-05-09T11:55:25.954Z"
   },
   {
    "duration": 3,
    "start_time": "2023-05-09T11:56:53.889Z"
   },
   {
    "duration": 133,
    "start_time": "2023-05-09T11:56:54.451Z"
   },
   {
    "duration": 7754,
    "start_time": "2023-05-09T13:56:50.567Z"
   },
   {
    "duration": 6,
    "start_time": "2023-05-09T13:56:58.323Z"
   },
   {
    "duration": 468,
    "start_time": "2023-05-09T13:56:58.331Z"
   },
   {
    "duration": 180,
    "start_time": "2023-05-09T13:56:58.801Z"
   },
   {
    "duration": 169,
    "start_time": "2023-05-09T13:56:58.984Z"
   },
   {
    "duration": 265,
    "start_time": "2023-05-09T13:56:59.155Z"
   },
   {
    "duration": 205,
    "start_time": "2023-05-09T13:56:59.423Z"
   },
   {
    "duration": 4,
    "start_time": "2023-05-09T13:56:59.630Z"
   },
   {
    "duration": 134,
    "start_time": "2023-05-09T13:56:59.636Z"
   },
   {
    "duration": 4,
    "start_time": "2023-05-09T13:56:59.780Z"
   },
   {
    "duration": 117,
    "start_time": "2023-05-09T13:56:59.786Z"
   },
   {
    "duration": 3,
    "start_time": "2023-05-09T13:56:59.905Z"
   },
   {
    "duration": 97,
    "start_time": "2023-05-09T13:56:59.910Z"
   },
   {
    "duration": 6,
    "start_time": "2023-05-09T13:57:00.011Z"
   },
   {
    "duration": 164,
    "start_time": "2023-05-09T13:57:00.020Z"
   },
   {
    "duration": 3,
    "start_time": "2023-05-09T13:57:00.187Z"
   },
   {
    "duration": 377,
    "start_time": "2023-05-09T13:57:00.192Z"
   },
   {
    "duration": 4,
    "start_time": "2023-05-09T14:02:26.619Z"
   },
   {
    "duration": 162,
    "start_time": "2023-05-09T14:02:27.501Z"
   },
   {
    "duration": 3,
    "start_time": "2023-05-09T14:03:10.797Z"
   },
   {
    "duration": 79,
    "start_time": "2023-05-09T14:03:11.503Z"
   },
   {
    "duration": 8,
    "start_time": "2023-05-09T14:04:01.240Z"
   },
   {
    "duration": 80,
    "start_time": "2023-05-09T14:04:01.709Z"
   },
   {
    "duration": 4,
    "start_time": "2023-05-09T14:04:47.511Z"
   },
   {
    "duration": 78,
    "start_time": "2023-05-09T14:04:47.982Z"
   },
   {
    "duration": 4,
    "start_time": "2023-05-09T14:04:59.696Z"
   },
   {
    "duration": 82,
    "start_time": "2023-05-09T14:05:00.199Z"
   },
   {
    "duration": 14158,
    "start_time": "2023-05-09T14:13:47.656Z"
   },
   {
    "duration": 3,
    "start_time": "2023-05-09T14:14:01.817Z"
   },
   {
    "duration": 414,
    "start_time": "2023-05-09T14:14:01.822Z"
   },
   {
    "duration": 162,
    "start_time": "2023-05-09T14:14:02.237Z"
   },
   {
    "duration": 158,
    "start_time": "2023-05-09T14:14:02.401Z"
   },
   {
    "duration": 193,
    "start_time": "2023-05-09T14:14:02.562Z"
   },
   {
    "duration": 168,
    "start_time": "2023-05-09T14:14:02.757Z"
   },
   {
    "duration": 2,
    "start_time": "2023-05-09T14:14:02.927Z"
   },
   {
    "duration": 103,
    "start_time": "2023-05-09T14:14:02.931Z"
   },
   {
    "duration": 3,
    "start_time": "2023-05-09T14:14:03.035Z"
   },
   {
    "duration": 149,
    "start_time": "2023-05-09T14:14:03.039Z"
   },
   {
    "duration": 2,
    "start_time": "2023-05-09T14:14:03.190Z"
   },
   {
    "duration": 120,
    "start_time": "2023-05-09T14:14:03.194Z"
   },
   {
    "duration": 3,
    "start_time": "2023-05-09T14:14:03.317Z"
   },
   {
    "duration": 94,
    "start_time": "2023-05-09T14:14:03.322Z"
   },
   {
    "duration": 4,
    "start_time": "2023-05-09T14:14:03.418Z"
   },
   {
    "duration": 97,
    "start_time": "2023-05-09T14:14:03.424Z"
   },
   {
    "duration": 9675,
    "start_time": "2023-05-09T22:51:10.763Z"
   },
   {
    "duration": 4,
    "start_time": "2023-05-09T22:51:20.439Z"
   },
   {
    "duration": 360,
    "start_time": "2023-05-09T22:51:20.445Z"
   },
   {
    "duration": 140,
    "start_time": "2023-05-09T22:51:20.807Z"
   },
   {
    "duration": 141,
    "start_time": "2023-05-09T22:51:20.949Z"
   },
   {
    "duration": 167,
    "start_time": "2023-05-09T22:51:21.092Z"
   },
   {
    "duration": 155,
    "start_time": "2023-05-09T22:51:21.261Z"
   },
   {
    "duration": 3,
    "start_time": "2023-05-09T22:51:21.417Z"
   },
   {
    "duration": 82,
    "start_time": "2023-05-09T22:51:21.421Z"
   },
   {
    "duration": 2,
    "start_time": "2023-05-09T22:51:21.505Z"
   },
   {
    "duration": 104,
    "start_time": "2023-05-09T22:51:21.508Z"
   },
   {
    "duration": 2,
    "start_time": "2023-05-09T22:51:21.614Z"
   },
   {
    "duration": 75,
    "start_time": "2023-05-09T22:51:21.617Z"
   },
   {
    "duration": 3,
    "start_time": "2023-05-09T22:51:21.695Z"
   },
   {
    "duration": 78,
    "start_time": "2023-05-09T22:51:21.699Z"
   },
   {
    "duration": 3,
    "start_time": "2023-05-09T22:51:21.779Z"
   },
   {
    "duration": 84,
    "start_time": "2023-05-09T22:51:21.783Z"
   },
   {
    "duration": 5632,
    "start_time": "2023-05-09T22:54:31.117Z"
   },
   {
    "duration": 5441,
    "start_time": "2023-05-09T22:54:41.169Z"
   },
   {
    "duration": 4,
    "start_time": "2023-05-09T22:54:47.948Z"
   },
   {
    "duration": 360,
    "start_time": "2023-05-09T22:54:48.769Z"
   },
   {
    "duration": 167,
    "start_time": "2023-05-09T22:54:52.968Z"
   },
   {
    "duration": 150,
    "start_time": "2023-05-09T22:54:54.263Z"
   },
   {
    "duration": 215,
    "start_time": "2023-05-09T22:54:55.351Z"
   },
   {
    "duration": 217,
    "start_time": "2023-05-09T22:54:56.650Z"
   },
   {
    "duration": 3,
    "start_time": "2023-05-09T22:55:05.847Z"
   },
   {
    "duration": 79,
    "start_time": "2023-05-09T22:55:06.613Z"
   },
   {
    "duration": 4,
    "start_time": "2023-05-09T22:55:53.242Z"
   },
   {
    "duration": 205,
    "start_time": "2023-05-09T22:55:53.898Z"
   },
   {
    "duration": 2,
    "start_time": "2023-05-09T22:56:07.069Z"
   },
   {
    "duration": 122,
    "start_time": "2023-05-09T22:56:08.080Z"
   },
   {
    "duration": 3,
    "start_time": "2023-05-09T22:56:27.614Z"
   },
   {
    "duration": 120,
    "start_time": "2023-05-09T22:56:28.834Z"
   },
   {
    "duration": 3,
    "start_time": "2023-05-09T23:00:16.563Z"
   },
   {
    "duration": 106,
    "start_time": "2023-05-09T23:00:17.194Z"
   },
   {
    "duration": 3,
    "start_time": "2023-05-09T23:00:31.427Z"
   },
   {
    "duration": 105,
    "start_time": "2023-05-09T23:00:33.463Z"
   },
   {
    "duration": 3,
    "start_time": "2023-05-09T23:00:58.266Z"
   },
   {
    "duration": 110,
    "start_time": "2023-05-09T23:01:00.477Z"
   },
   {
    "duration": 2,
    "start_time": "2023-05-09T23:01:24.536Z"
   },
   {
    "duration": 117,
    "start_time": "2023-05-09T23:01:28.801Z"
   },
   {
    "duration": 3,
    "start_time": "2023-05-09T23:01:51.633Z"
   },
   {
    "duration": 106,
    "start_time": "2023-05-09T23:01:52.247Z"
   },
   {
    "duration": 2,
    "start_time": "2023-05-09T23:01:58.359Z"
   },
   {
    "duration": 70,
    "start_time": "2023-05-09T23:01:58.911Z"
   },
   {
    "duration": 2,
    "start_time": "2023-05-09T23:02:02.010Z"
   },
   {
    "duration": 76,
    "start_time": "2023-05-09T23:02:02.746Z"
   },
   {
    "duration": 3,
    "start_time": "2023-05-09T23:02:05.952Z"
   },
   {
    "duration": 73,
    "start_time": "2023-05-09T23:02:06.815Z"
   },
   {
    "duration": 50,
    "start_time": "2023-05-09T23:03:40.018Z"
   },
   {
    "duration": 6192,
    "start_time": "2023-05-09T23:04:12.527Z"
   },
   {
    "duration": 3,
    "start_time": "2023-05-09T23:04:18.721Z"
   },
   {
    "duration": 366,
    "start_time": "2023-05-09T23:04:18.726Z"
   },
   {
    "duration": 153,
    "start_time": "2023-05-09T23:04:19.094Z"
   },
   {
    "duration": 154,
    "start_time": "2023-05-09T23:04:19.250Z"
   },
   {
    "duration": 173,
    "start_time": "2023-05-09T23:04:19.406Z"
   },
   {
    "duration": 160,
    "start_time": "2023-05-09T23:04:19.580Z"
   },
   {
    "duration": 6,
    "start_time": "2023-05-09T23:04:19.743Z"
   },
   {
    "duration": 72,
    "start_time": "2023-05-09T23:04:19.751Z"
   },
   {
    "duration": 2,
    "start_time": "2023-05-09T23:04:19.825Z"
   },
   {
    "duration": 118,
    "start_time": "2023-05-09T23:04:19.829Z"
   },
   {
    "duration": 3,
    "start_time": "2023-05-09T23:04:19.949Z"
   },
   {
    "duration": 78,
    "start_time": "2023-05-09T23:04:19.953Z"
   },
   {
    "duration": 2,
    "start_time": "2023-05-09T23:04:20.033Z"
   },
   {
    "duration": 94,
    "start_time": "2023-05-09T23:04:20.037Z"
   },
   {
    "duration": 7,
    "start_time": "2023-05-09T23:04:20.133Z"
   },
   {
    "duration": 96,
    "start_time": "2023-05-09T23:04:20.142Z"
   },
   {
    "duration": 2,
    "start_time": "2023-05-09T23:07:07.181Z"
   },
   {
    "duration": 111,
    "start_time": "2023-05-09T23:07:07.972Z"
   },
   {
    "duration": 3,
    "start_time": "2023-05-09T23:07:23.161Z"
   },
   {
    "duration": 111,
    "start_time": "2023-05-09T23:07:23.707Z"
   },
   {
    "duration": 3,
    "start_time": "2023-05-09T23:07:30.996Z"
   },
   {
    "duration": 107,
    "start_time": "2023-05-09T23:07:31.516Z"
   },
   {
    "duration": 6121,
    "start_time": "2023-05-09T23:07:40.290Z"
   },
   {
    "duration": 3,
    "start_time": "2023-05-09T23:07:46.413Z"
   },
   {
    "duration": 424,
    "start_time": "2023-05-09T23:07:46.417Z"
   },
   {
    "duration": 159,
    "start_time": "2023-05-09T23:07:46.845Z"
   },
   {
    "duration": 158,
    "start_time": "2023-05-09T23:07:47.006Z"
   },
   {
    "duration": 174,
    "start_time": "2023-05-09T23:07:47.165Z"
   },
   {
    "duration": 164,
    "start_time": "2023-05-09T23:07:47.341Z"
   },
   {
    "duration": 3,
    "start_time": "2023-05-09T23:07:47.507Z"
   },
   {
    "duration": 88,
    "start_time": "2023-05-09T23:07:47.511Z"
   },
   {
    "duration": 3,
    "start_time": "2023-05-09T23:07:47.601Z"
   },
   {
    "duration": 115,
    "start_time": "2023-05-09T23:07:47.605Z"
   },
   {
    "duration": 3,
    "start_time": "2023-05-09T23:07:47.721Z"
   },
   {
    "duration": 128,
    "start_time": "2023-05-09T23:07:47.725Z"
   },
   {
    "duration": 3,
    "start_time": "2023-05-09T23:07:47.854Z"
   },
   {
    "duration": 103,
    "start_time": "2023-05-09T23:07:47.858Z"
   },
   {
    "duration": 2,
    "start_time": "2023-05-09T23:07:47.963Z"
   },
   {
    "duration": 105,
    "start_time": "2023-05-09T23:07:47.967Z"
   }
  ],
  "kernelspec": {
   "display_name": "Python 3 (ipykernel)",
   "language": "python",
   "name": "python3"
  },
  "language_info": {
   "codemirror_mode": {
    "name": "ipython",
    "version": 3
   },
   "file_extension": ".py",
   "mimetype": "text/x-python",
   "name": "python",
   "nbconvert_exporter": "python",
   "pygments_lexer": "ipython3",
   "version": "3.9.13"
  },
  "toc": {
   "base_numbering": 1,
   "nav_menu": {},
   "number_sections": true,
   "sideBar": true,
   "skip_h1_title": true,
   "title_cell": "Table of Contents",
   "title_sidebar": "Contents",
   "toc_cell": false,
   "toc_position": {},
   "toc_section_display": true,
   "toc_window_display": true
  }
 },
 "nbformat": 4,
 "nbformat_minor": 4
}
